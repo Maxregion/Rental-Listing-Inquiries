{
 "cells": [
  {
   "cell_type": "code",
   "execution_count": 1,
   "metadata": {
    "collapsed": false
   },
   "outputs": [
    {
     "name": "stderr",
     "output_type": "stream",
     "text": [
      "/home/rx78rx91/anaconda3/lib/python3.5/site-packages/sklearn/cross_validation.py:44: DeprecationWarning: This module was deprecated in version 0.18 in favor of the model_selection module into which all the refactored classes and functions are moved. Also note that the interface of the new CV iterators are different from that of this module. This module will be removed in 0.20.\n",
      "  \"This module will be removed in 0.20.\", DeprecationWarning)\n"
     ]
    }
   ],
   "source": [
    "import numpy as np\n",
    "import pandas as pd\n",
    "import string\n",
    "from scipy.stats import boxcox\n",
    "from collections import defaultdict, Counter\n",
    "import xgboost as xgb"
   ]
  },
  {
   "cell_type": "code",
   "execution_count": 2,
   "metadata": {
    "collapsed": true
   },
   "outputs": [],
   "source": [
    "path='/home/train.json'\n",
    "test_path='/home/test.json'\n",
    "\n",
    "list_room=pd.read_json(path)\n",
    "list_test=pd.read_json(test_path)\n",
    "ntrain = list_room.shape[0]\n",
    "#Fix & get label、test_set_ID\n",
    "\n",
    "listing_id = list_test.listing_id.values\n",
    "y_map = {'low': 2, 'medium': 1, 'high': 0}\n",
    "list_room['interest_level'] = list_room['interest_level'].apply(lambda x: y_map[x])\n",
    "y_train = list_room.interest_level.values\n",
    "train = list_room.drop(['listing_id', 'interest_level'], axis=1)\n",
    "test = list_test.drop('listing_id', axis=1)\n",
    "#fix_outlierValue in Testset\n",
    "fix_bathrooms=list_test.bathrooms.tolist()\n",
    "for i in range(len(fix_bathrooms)):\n",
    "    if fix_bathrooms[i] == 20.0:\n",
    "        fix_bathrooms[i]= 2.0                \n",
    "    elif fix_bathrooms[i]==112.0:\n",
    "        fix_bathrooms[i]= 1.5\n",
    "list_test[\"bathrooms\"]=fix_bathrooms\n",
    "#merge\n",
    "train_test = pd.concat((train, test), axis=0).reset_index(drop=True)\n",
    "#Customers may interest on price–performance ratio\n",
    "train_test[\"cp_bathrooms\"]=train_test.price.divide(train_test.bathrooms,axis=0)\n",
    "train_test[\"cp_bedrooms\"]=train_test.price.divide(train_test.bedrooms,axis=0)\n",
    "train_test[\"bed_bath_sum\"]=train_test.bathrooms.add(train_test.bedrooms,axis=0)\n",
    "train_test[\"cp_bed_bath_sum\"]=train_test.price.divide(train_test.bed_bath_sum,axis=0)\n",
    "train_test[\"bed_bath_sub\"]=train_test.bathrooms.subtract(train_test.bedrooms,axis=0)\n",
    "train_test[\"cp_bed_bath_su\"]=train_test.bathrooms.divide(train_test.bedrooms,axis=0)\n",
    "#filtered dict with less than times counts\n",
    "def feature_filter(feature_map,times):\n",
    "    feature_map_filtered={}\n",
    "    index=0\n",
    "    for i in feature_map:\n",
    "        value=feature_map[i][1]\n",
    "        \n",
    "        \n",
    "        if value > times:\n",
    "           \n",
    "            feature_map_filtered.update({i:index})\n",
    "            index+=1\n",
    "    return feature_map_filtered\n"
   ]
  },
  {
   "cell_type": "code",
   "execution_count": 3,
   "metadata": {
    "collapsed": true
   },
   "outputs": [],
   "source": [
    "#rename df into Sequential label and count each label\n",
    "def re_label_and_counts(dataframe):\n",
    "    #return list,dict_info\n",
    "    list_data=dataframe.tolist()\n",
    "    label_dict={}\n",
    "    index=1\n",
    "    for list_data_index in range(len(list_data)):\n",
    "        if list_data[list_data_index] not in label_dict:\n",
    "            label_dict.update({list_data[list_data_index]:1})\n",
    "            \n",
    "            #label_dict.update({list_data[list_data_index]:[index,1]})\n",
    "            #index+=1 \n",
    "            #list_data[list_data_index]=index            \n",
    "        else:\n",
    "            dict_info=label_dict[list_data[list_data_index]]\n",
    "            label_dict.update({list_data[list_data_index]:dict_info+1})\n",
    "            #dict_info=dict_info+1\n",
    "            \n",
    "            #dict_info[1]=dict_info[1]+1\n",
    "            #label_dict.update({list_data[list_data_index]:dict_info})\n",
    "            #list_data[list_data_index]=dict_info[0]\n",
    "    \n",
    "    \n",
    "    \n",
    "\n",
    "    f_score_df=pd.DataFrame.from_dict(label_dict,orient=\"index\")\n",
    "    \n",
    "    f_score_df.columns=[\"counts\"]\n",
    "    f_score_df.sort_values(by=[\"counts\"],inplace=True ,ascending=0)\n",
    "    return f_score_df   \n",
    "def tf_Df_generator(dict_df,target_df):\n",
    "    target_list=target_df.tolist()\n",
    "    index=list(range(0,len(dict_df)))\n",
    "    dict_df[\"index\"]=index\n",
    "    \n",
    "    dict_dict=dict_df.T.to_dict('list')\n",
    "    \n",
    "    feature_length=len(dict_dict)\n",
    "    customers_length=len(train_test)\n",
    "    New_columns=np.zeros([customers_length,feature_length])\n",
    "    for list_index in range(len(target_list)):\n",
    "        if target_list[list_index] in dict_dict:\n",
    "            New_columns[list_index][dict_dict[target_list[list_index]][1]]=1\n",
    "    tf_df=pd.DataFrame(New_columns,columns=dict_dict.keys())\n",
    "    \n",
    "    return tf_df\n",
    "            \n",
    "    "
   ]
  },
  {
   "cell_type": "code",
   "execution_count": 4,
   "metadata": {
    "collapsed": false
   },
   "outputs": [
    {
     "name": "stderr",
     "output_type": "stream",
     "text": [
      "/home/rx78rx91/anaconda3/lib/python3.5/site-packages/ipykernel/__main__.py:34: SettingWithCopyWarning: \n",
      "A value is trying to be set on a copy of a slice from a DataFrame.\n",
      "Try using .loc[row_indexer,col_indexer] = value instead\n",
      "\n",
      "See the caveats in the documentation: http://pandas.pydata.org/pandas-docs/stable/indexing.html#indexing-view-versus-copy\n"
     ]
    }
   ],
   "source": [
    "#clean building_id\n",
    "building_df=re_label_and_counts(train_test.building_id)\n",
    "building_df_top50=building_df[0:50]\n",
    "building_table_tf=tf_Df_generator(building_df_top50,train_test.building_id)\n",
    "train_test = pd.concat((train_test, building_table_tf), axis=1).reset_index(drop=True)"
   ]
  },
  {
   "cell_type": "code",
   "execution_count": 5,
   "metadata": {
    "collapsed": false
   },
   "outputs": [],
   "source": [
    "#create time parameters\n",
    "\n",
    "train_test['Date'] = pd.to_datetime(train_test['created'])\n",
    "train_test['month'] = train_test['Date'].dt.month\n",
    "train_test['day'] = train_test['Date'].dt.day\n",
    "train_test['wday'] = train_test['Date'].dt.dayofweek\n",
    "train_test['yday'] = train_test['Date'].dt.dayofyear\n",
    "train_test['hour'] = train_test['Date'].dt.hour\n",
    "#train_test['Year'] = train_test['Date'].dt.year"
   ]
  },
  {
   "cell_type": "code",
   "execution_count": 6,
   "metadata": {
    "collapsed": true
   },
   "outputs": [],
   "source": [
    "#description\n",
    "\n",
    "train_test['desc'] = train_test['description']\n",
    "train_test['desc'] = train_test['desc'].apply(lambda s: s.replace('<p><a  website_redacted ', ''))\n",
    "train_test['desc'] = train_test['desc'].apply(lambda s: s.replace('!<br /><br />', ''))\n",
    "string.punctuation.__add__('!!')\n",
    "string.punctuation.__add__('(')\n",
    "string.punctuation.__add__(')')\n",
    "train_test['desc'] = train_test['desc'].apply(lambda s:''.join([l for l in s if l not in string.punctuation]))\n",
    "train_test['desc_letters_count'] = train_test['description'].apply(lambda s: len(s.strip()))\n",
    "train_test['desc_words_count'] = train_test['desc'].apply(lambda s: 0 if len(s.strip()) == 0 else len(s.split(' ')))\n",
    "train_test.drop(['description', 'desc'], axis=1, inplace=True)\n"
   ]
  },
  {
   "cell_type": "code",
   "execution_count": 7,
   "metadata": {
    "collapsed": false
   },
   "outputs": [
    {
     "name": "stderr",
     "output_type": "stream",
     "text": [
      "/home/rx78rx91/anaconda3/lib/python3.5/site-packages/ipykernel/__main__.py:34: SettingWithCopyWarning: \n",
      "A value is trying to be set on a copy of a slice from a DataFrame.\n",
      "Try using .loc[row_indexer,col_indexer] = value instead\n",
      "\n",
      "See the caveats in the documentation: http://pandas.pydata.org/pandas-docs/stable/indexing.html#indexing-view-versus-copy\n"
     ]
    }
   ],
   "source": [
    "#covert display_address into format\n",
    "train_test['address1'] = train_test['display_address']\n",
    "train_test['address1'] = train_test['address1'].apply(lambda s: s.lower())\n",
    "\n",
    "address_dictMap = {\n",
    "    'w': 'west',\n",
    "    'st.': 'street',\n",
    "    'ave': 'avenue',\n",
    "    'st': 'street',\n",
    "    'e': 'east',\n",
    "    'n': 'north',\n",
    "    's': 'south'\n",
    "}\n",
    "#bc_price, tmp = boxcox(train_test.price)\n",
    "#train_test['bc_price'] = bc_price\n",
    "\n",
    "def address_reformat(s):\n",
    "    s = s.split(' ')\n",
    "    out = []\n",
    "    for x in s:\n",
    "        if x in address_dictMap:\n",
    "            out.append(address_dictMap[x])\n",
    "        else:\n",
    "            out.append(x)\n",
    "    return ' '.join(out)\n",
    "\n",
    "\n",
    "train_test['address1'] = train_test['address1'].apply(lambda s:''.join([l for l in s if l not in string.punctuation]))\n",
    "train_test['address1'] = train_test['address1'].apply(lambda s: address_reformat(s))\n",
    "\n",
    "new_cols = ['street', 'avenue', 'east', 'west', 'north', 'south']\n",
    "\n",
    "for col in new_cols:\n",
    "    train_test[col] = train_test['address1'].apply(lambda s: 1 if col in s else 0)\n",
    "\n",
    "train_test['other_address'] = train_test[new_cols].apply(lambda s: 1 if s.sum() == 0 else 0, axis=1)\n",
    "\n",
    "\n",
    "address1_df=re_label_and_counts(train_test.address1)\n",
    "address1_df_top50=address1_df[0:100]\n",
    "address1_table_tf=tf_Df_generator(address1_df_top50,train_test.address1)\n",
    "train_test = pd.concat((train_test, address1_table_tf), axis=1).reset_index(drop=True)\n",
    "\n",
    "# photos counts may repreasent the quality of house\n",
    "train_test['photos_count'] = train_test['photos'].apply(lambda x: len(x))"
   ]
  },
  {
   "cell_type": "code",
   "execution_count": 8,
   "metadata": {
    "collapsed": true
   },
   "outputs": [],
   "source": [
    "#convert  features into hash key\n",
    "def clean(s):\n",
    "    s=\"\".join(l for l in s if l not in string.punctuation)       \n",
    "    x = s.replace(\" \", \"\")\n",
    "    x = x.replace(\"twenty four hour\", \"24\")\n",
    "    x = x.replace(\"24/7\", \"24\")\n",
    "    x = x.replace(\"247\", \"24\")\n",
    "    x = x.replace(\"24hr\", \"24\")\n",
    "    x = x.replace(\"24hour\", \"24\")\n",
    "    x = x.replace(\"24hour\", \"24\")\n",
    "    x = x.replace(\"24 hour\", \"24\")\n",
    "    x = x.replace(\"common\", \"cm\")\n",
    "    x = x.replace(\"concierge\", \"doorman\")\n",
    "    x = x.replace(\"bicycle\", \"bike\")\n",
    "    x = x.replace(\"private\", \"pv\")\n",
    "    x = x.replace(\"deco\", \"dc\")\n",
    "    x = x.replace(\"decorative\", \"dc\")\n",
    "    x = x.replace(\"onsite\", \"os\")\n",
    "    x = x.replace(\"outdoor\", \"od\")\n",
    "    x = x.replace(\"ss appliances\", \"stainless\")\n",
    "    x=x.replace(\"24fulltime\",\"24do\")\n",
    "    x=x.replace(\"allpetsok\",\"pets\")    \n",
    "    #x=x.replace(\"cats\",\"pets\")\n",
    "    #x=x.replace(\"dogs\",\"pets\")\n",
    "    return x\n",
    "\n",
    "def feature_hash(x):\n",
    "    cleaned = clean(x)\n",
    "    key = cleaned[:4].strip()    \n",
    "    return key,cleaned\n",
    "\n",
    "#convert string to lower\n",
    "features = train_test[[\"features\"]].apply(lambda _: [list(map(str.strip, map(str.lower, x))) for x in _])\n",
    "\n",
    "\n",
    "def hash_transform():    \n",
    "    features_counts=[]\n",
    "    feature_map={}\n",
    "    count=0\n",
    "    for feature in features.features:\n",
    "        features_counts.append(len(feature))\n",
    "        for single_feature in feature:\n",
    "            key,new_string=feature_hash(single_feature) \n",
    "            if key not in feature_map:\n",
    "                feature_map.update({key:[count,1,[new_string]]})\n",
    "                count+=1\n",
    "            else:\n",
    "                key_word_info=feature_map[key]\n",
    "\n",
    "                key_word_info[1]+=1\n",
    "                if new_string not in key_word_info[2]:\n",
    "                    key_word_info[2].append(new_string)\n",
    "    return feature_map,features_counts\n",
    "\n",
    "feature_map,features_counts=hash_transform()\n",
    "\n",
    "feature_map_filtered=feature_filter(feature_map,50)\n",
    "    "
   ]
  },
  {
   "cell_type": "code",
   "execution_count": 9,
   "metadata": {
    "collapsed": true
   },
   "outputs": [],
   "source": [
    "#generate TF feature_table by hash Key   \n",
    "def gen_feature_table(feature_map_filtered): \n",
    "    feature_length=len(feature_map_filtered)\n",
    "    customers_length=len(train_test)\n",
    "    New_columns=np.zeros([customers_length,feature_length])\n",
    "    index=0\n",
    "    for feature in features.features:\n",
    "        for single_feature in feature:\n",
    "            key,new_string=feature_hash(single_feature)\n",
    "\n",
    "            if key in feature_map_filtered:\n",
    "\n",
    "                New_columns[index][feature_map_filtered[key]]=1\n",
    "        index+=1        \n",
    "    feature_df=pd.DataFrame(New_columns,columns=list(feature_map_filtered.keys()))\n",
    "    return feature_df\n",
    "\n",
    "feature_df=gen_feature_table(feature_map_filtered)            \n"
   ]
  },
  {
   "cell_type": "code",
   "execution_count": 10,
   "metadata": {
    "collapsed": false
   },
   "outputs": [
    {
     "name": "stderr",
     "output_type": "stream",
     "text": [
      "/home/rx78rx91/anaconda3/lib/python3.5/site-packages/ipykernel/__main__.py:34: SettingWithCopyWarning: \n",
      "A value is trying to be set on a copy of a slice from a DataFrame.\n",
      "Try using .loc[row_indexer,col_indexer] = value instead\n",
      "\n",
      "See the caveats in the documentation: http://pandas.pydata.org/pandas-docs/stable/indexing.html#indexing-view-versus-copy\n"
     ]
    }
   ],
   "source": [
    "#clean building_id\n",
    "manager_df=re_label_and_counts(train_test.manager_id)\n",
    "manager_df_top50=manager_df[0:50]\n",
    "manager_table_tf=tf_Df_generator(manager_df_top50,train_test.manager_id)\n",
    "train_test = pd.concat((train_test, manager_table_tf), axis=1).reset_index(drop=True)"
   ]
  },
  {
   "cell_type": "code",
   "execution_count": 11,
   "metadata": {
    "collapsed": true
   },
   "outputs": [],
   "source": [
    "def xgb_feature_filter(x_train,y_train):\n",
    "    NFOLDS = 5\n",
    "\n",
    "    params = {\n",
    "        'eta':.01,\n",
    "        'colsample_bytree':.8,\n",
    "        'subsample':.8,\n",
    "        'seed':0,\n",
    "        'nthread':8,\n",
    "        'objective':'multi:softprob',\n",
    "        'eval_metric':'mlogloss',\n",
    "        'num_class':3,\n",
    "        'silent':1,\n",
    "        'max_depth':5,\n",
    "        'nfold':5\n",
    "\n",
    "    }\n",
    "\n",
    "\n",
    "    dtrain = xgb.DMatrix(data=x_train, label=y_train)\n",
    "    bst = xgb.train(params, dtrain, 2000)\n",
    "    f_score=bst.get_fscore()\n",
    "    f_score_df=pd.DataFrame.from_dict(f_score,orient=\"index\")\n",
    "    f_score_df.columns=[\"counts\"]\n",
    "    f_score_df.sort([\"counts\"],inplace=True ,ascending=0)\n",
    "    f_score_df[\"features\"]=f_score_df.index\n",
    "    return f_score_df"
   ]
  },
  {
   "cell_type": "code",
   "execution_count": 12,
   "metadata": {
    "collapsed": false
   },
   "outputs": [
    {
     "name": "stderr",
     "output_type": "stream",
     "text": [
      "/home/rx78rx91/anaconda3/lib/python3.5/site-packages/ipykernel/__main__.py:25: FutureWarning: sort(columns=....) is deprecated, use sort_values(by=.....)\n"
     ]
    }
   ],
   "source": [
    "f_score=xgb_feature_filter(feature_df[:ntrain],y_train)"
   ]
  },
  {
   "cell_type": "code",
   "execution_count": 13,
   "metadata": {
    "collapsed": true
   },
   "outputs": [],
   "source": [
    "\n",
    "drop_col=['display_address','photos','features','street_address','Date', 'created','building_id','manager_id','address1']\n",
    "train_test.drop(drop_col,axis=1,inplace=True)\n",
    "\n",
    "f_top50=f_score.features[0:50].tolist()\n",
    "top_feature_df=feature_df[:ntrain][f_top50]\n",
    "x_train=train_test[:ntrain]\n",
    "\n",
    "train_data = pd.concat((x_train, top_feature_df), axis=1).reset_index(drop=True)\n",
    "#train_data.to_csv(\"D:\\\\test\\\\f_room_train.csv\",index=False)\n",
    "y_df=pd.DataFrame({\"y\":y_train})\n",
    "y_df.to_csv(\"D:\\\\test\\\\f_room_lebel.csv\",index=False)\n",
    "x_test=train_test[ntrain:]\n",
    "x_test.reset_index(inplace=True)\n",
    "top_test_feature_df=feature_df[ntrain:][f_top50].reset_index(drop=True)\n",
    "test_data = pd.concat((x_test, top_test_feature_df), axis=1).reset_index(drop=True)\n",
    "test_data[\"listing_id\"]=list_test.listing_id.values\n",
    "#test_data.to_csv(\"D:\\\\test\\\\f_room_test.csv\",index=False)"
   ]
  },
  {
   "cell_type": "code",
   "execution_count": 14,
   "metadata": {
    "collapsed": false
   },
   "outputs": [],
   "source": [
    "def xgb_train(x_train,y_train):\n",
    "    NFOLDS = 5\n",
    "\n",
    "    params = {\n",
    "        'eta':.02,\n",
    "        'colsample_bytree':.7,\n",
    "        'subsample':.7,\n",
    "        'seed':321,\n",
    "        'nthread':8,\n",
    "        'objective':'multi:softprob',\n",
    "        'eval_metric':'mlogloss',\n",
    "        'num_class':3,\n",
    "        'silent':1,\n",
    "        'max_depth':10,\n",
    "        'min_child_weight' : 1\n",
    "        \n",
    "        \n",
    "        \n",
    "\n",
    "    }\n",
    "\n",
    "\n",
    "    dtrain = xgb.DMatrix(data=x_train, label=y_train)\n",
    "    bst = xgb.train(params, dtrain, 2000)\n",
    "    \n",
    "    return bst"
   ]
  },
  {
   "cell_type": "code",
   "execution_count": 15,
   "metadata": {
    "collapsed": false
   },
   "outputs": [],
   "source": [
    "bst=xgb_train(train_data,y_train)"
   ]
  },
  {
   "cell_type": "code",
   "execution_count": 16,
   "metadata": {
    "collapsed": false
   },
   "outputs": [],
   "source": [
    "x_test=test_data\n",
    "listing_id=x_test.listing_id\n",
    "x_test.drop([\"listing_id\",\"index\"],axis=1,inplace=True)\n",
    "dtest = xgb.DMatrix(data=x_test)\n",
    "pred=bst.predict(dtest)\n",
    "preds = pd.DataFrame(pred)\n",
    "\n",
    "cols = ['high', 'medium', 'low']\n",
    "\n",
    "preds.columns = cols\n",
    "\n",
    "preds['listing_id'] = listing_id\n",
    "\n",
    "preds.to_csv(\"/home/result.csv\", index=None)"
   ]
  },
  {
   "cell_type": "code",
   "execution_count": null,
   "metadata": {
    "collapsed": false
   },
   "outputs": [],
   "source": []
  },
  {
   "cell_type": "code",
   "execution_count": null,
   "metadata": {
    "collapsed": true
   },
   "outputs": [],
   "source": []
  },
  {
   "cell_type": "code",
   "execution_count": null,
   "metadata": {
    "collapsed": true
   },
   "outputs": [],
   "source": []
  },
  {
   "cell_type": "code",
   "execution_count": null,
   "metadata": {
    "collapsed": true
   },
   "outputs": [],
   "source": []
  },
  {
   "cell_type": "code",
   "execution_count": null,
   "metadata": {
    "collapsed": true
   },
   "outputs": [],
   "source": []
  },
  {
   "cell_type": "code",
   "execution_count": null,
   "metadata": {
    "collapsed": true
   },
   "outputs": [],
   "source": []
  },
  {
   "cell_type": "code",
   "execution_count": null,
   "metadata": {
    "collapsed": true
   },
   "outputs": [],
   "source": []
  },
  {
   "cell_type": "code",
   "execution_count": null,
   "metadata": {
    "collapsed": true
   },
   "outputs": [],
   "source": []
  },
  {
   "cell_type": "code",
   "execution_count": null,
   "metadata": {
    "collapsed": true
   },
   "outputs": [],
   "source": []
  },
  {
   "cell_type": "code",
   "execution_count": null,
   "metadata": {
    "collapsed": true
   },
   "outputs": [],
   "source": []
  },
  {
   "cell_type": "code",
   "execution_count": null,
   "metadata": {
    "collapsed": true
   },
   "outputs": [],
   "source": []
  },
  {
   "cell_type": "code",
   "execution_count": null,
   "metadata": {
    "collapsed": true
   },
   "outputs": [],
   "source": []
  },
  {
   "cell_type": "code",
   "execution_count": null,
   "metadata": {
    "collapsed": true
   },
   "outputs": [],
   "source": []
  },
  {
   "cell_type": "code",
   "execution_count": null,
   "metadata": {
    "collapsed": true
   },
   "outputs": [],
   "source": []
  },
  {
   "cell_type": "code",
   "execution_count": null,
   "metadata": {
    "collapsed": true
   },
   "outputs": [],
   "source": []
  },
  {
   "cell_type": "code",
   "execution_count": null,
   "metadata": {
    "collapsed": true
   },
   "outputs": [],
   "source": []
  },
  {
   "cell_type": "code",
   "execution_count": null,
   "metadata": {
    "collapsed": true
   },
   "outputs": [],
   "source": []
  },
  {
   "cell_type": "code",
   "execution_count": null,
   "metadata": {
    "collapsed": true
   },
   "outputs": [],
   "source": []
  },
  {
   "cell_type": "code",
   "execution_count": null,
   "metadata": {
    "collapsed": true
   },
   "outputs": [],
   "source": []
  },
  {
   "cell_type": "code",
   "execution_count": null,
   "metadata": {
    "collapsed": true
   },
   "outputs": [],
   "source": []
  },
  {
   "cell_type": "code",
   "execution_count": null,
   "metadata": {
    "collapsed": true
   },
   "outputs": [],
   "source": []
  },
  {
   "cell_type": "code",
   "execution_count": null,
   "metadata": {
    "collapsed": true
   },
   "outputs": [],
   "source": []
  },
  {
   "cell_type": "code",
   "execution_count": null,
   "metadata": {
    "collapsed": true
   },
   "outputs": [],
   "source": []
  },
  {
   "cell_type": "code",
   "execution_count": null,
   "metadata": {
    "collapsed": true
   },
   "outputs": [],
   "source": []
  },
  {
   "cell_type": "code",
   "execution_count": null,
   "metadata": {
    "collapsed": true
   },
   "outputs": [],
   "source": []
  },
  {
   "cell_type": "code",
   "execution_count": null,
   "metadata": {
    "collapsed": true
   },
   "outputs": [],
   "source": []
  },
  {
   "cell_type": "code",
   "execution_count": null,
   "metadata": {
    "collapsed": true
   },
   "outputs": [],
   "source": []
  },
  {
   "cell_type": "code",
   "execution_count": null,
   "metadata": {
    "collapsed": true
   },
   "outputs": [],
   "source": []
  },
  {
   "cell_type": "code",
   "execution_count": null,
   "metadata": {
    "collapsed": true
   },
   "outputs": [],
   "source": []
  },
  {
   "cell_type": "code",
   "execution_count": null,
   "metadata": {
    "collapsed": true
   },
   "outputs": [],
   "source": []
  },
  {
   "cell_type": "code",
   "execution_count": null,
   "metadata": {
    "collapsed": true
   },
   "outputs": [],
   "source": []
  },
  {
   "cell_type": "code",
   "execution_count": null,
   "metadata": {
    "collapsed": true
   },
   "outputs": [],
   "source": []
  },
  {
   "cell_type": "code",
   "execution_count": null,
   "metadata": {
    "collapsed": true
   },
   "outputs": [],
   "source": []
  },
  {
   "cell_type": "code",
   "execution_count": null,
   "metadata": {
    "collapsed": true
   },
   "outputs": [],
   "source": []
  },
  {
   "cell_type": "code",
   "execution_count": null,
   "metadata": {
    "collapsed": true
   },
   "outputs": [],
   "source": []
  },
  {
   "cell_type": "code",
   "execution_count": null,
   "metadata": {
    "collapsed": true
   },
   "outputs": [],
   "source": []
  },
  {
   "cell_type": "code",
   "execution_count": null,
   "metadata": {
    "collapsed": true
   },
   "outputs": [],
   "source": []
  },
  {
   "cell_type": "code",
   "execution_count": null,
   "metadata": {
    "collapsed": true
   },
   "outputs": [],
   "source": []
  },
  {
   "cell_type": "code",
   "execution_count": null,
   "metadata": {
    "collapsed": true
   },
   "outputs": [],
   "source": []
  },
  {
   "cell_type": "code",
   "execution_count": null,
   "metadata": {
    "collapsed": true
   },
   "outputs": [],
   "source": []
  },
  {
   "cell_type": "code",
   "execution_count": null,
   "metadata": {
    "collapsed": true
   },
   "outputs": [],
   "source": []
  },
  {
   "cell_type": "code",
   "execution_count": null,
   "metadata": {
    "collapsed": true
   },
   "outputs": [],
   "source": []
  },
  {
   "cell_type": "code",
   "execution_count": null,
   "metadata": {
    "collapsed": true
   },
   "outputs": [],
   "source": []
  },
  {
   "cell_type": "code",
   "execution_count": null,
   "metadata": {
    "collapsed": true
   },
   "outputs": [],
   "source": []
  }
 ],
 "metadata": {
  "anaconda-cloud": {},
  "kernelspec": {
   "display_name": "Python [default]",
   "language": "python",
   "name": "python3"
  },
  "language_info": {
   "codemirror_mode": {
    "name": "ipython",
    "version": 3
   },
   "file_extension": ".py",
   "mimetype": "text/x-python",
   "name": "python",
   "nbconvert_exporter": "python",
   "pygments_lexer": "ipython3",
   "version": "3.5.2"
  }
 },
 "nbformat": 4,
 "nbformat_minor": 1
}
